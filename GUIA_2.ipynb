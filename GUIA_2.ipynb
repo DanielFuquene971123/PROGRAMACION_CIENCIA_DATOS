{
 "cells": [
  {
   "cell_type": "markdown",
   "id": "c7610458-a578-48eb-982e-828e74b7b31d",
   "metadata": {},
   "source": [
    "## GUIA 2 - EMPRESAS MAS GRANDES DE COLOMBIA"
   ]
  },
  {
   "cell_type": "markdown",
   "id": "a5c994c8-6cea-4497-9805-041dfcf03458",
   "metadata": {},
   "source": [
    "# Importamos las librerias que usaremos en la limpieza y analisis de datos."
   ]
  },
  {
   "cell_type": "markdown",
   "id": "cf28d6cf-050c-4f99-a546-5916b3d94250",
   "metadata": {},
   "source": [
    "Importamos las librerias que se usaran para la limpieza y analisis del dataframe"
   ]
  },
  {
   "cell_type": "code",
   "execution_count": 3,
   "id": "8401a87a-408c-4aa5-a029-954bbf10cc98",
   "metadata": {},
   "outputs": [],
   "source": [
    "import pandas as pd\n",
    "import numpy as np"
   ]
  },
  {
   "cell_type": "markdown",
   "id": "bc381fe5-751f-46c9-ad27-f424f8cd36bc",
   "metadata": {},
   "source": [
    "Asignamo df como variable para el dataframe."
   ]
  },
  {
   "cell_type": "code",
   "execution_count": 5,
   "id": "99dfa03e-3144-4b17-afea-215c1559227b",
   "metadata": {},
   "outputs": [],
   "source": [
    "df = pd.read_csv(\"C:/Users/Adm1n/Desktop/MAESTRIA Ean/Programación para ciencia de datos/Guia 2/10.000_Empresas_mas_Grandes_del_Pa_s_20240822.csv\")"
   ]
  },
  {
   "cell_type": "code",
   "execution_count": 7,
   "id": "b08649e3-912f-4746-84ef-70e5853a93e8",
   "metadata": {},
   "outputs": [
    {
     "data": {
      "text/html": [
       "<div>\n",
       "<style scoped>\n",
       "    .dataframe tbody tr th:only-of-type {\n",
       "        vertical-align: middle;\n",
       "    }\n",
       "\n",
       "    .dataframe tbody tr th {\n",
       "        vertical-align: top;\n",
       "    }\n",
       "\n",
       "    .dataframe thead th {\n",
       "        text-align: right;\n",
       "    }\n",
       "</style>\n",
       "<table border=\"1\" class=\"dataframe\">\n",
       "  <thead>\n",
       "    <tr style=\"text-align: right;\">\n",
       "      <th></th>\n",
       "      <th>NIT</th>\n",
       "      <th>RAZÓN SOCIAL</th>\n",
       "      <th>SUPERVISOR</th>\n",
       "      <th>REGIÓN</th>\n",
       "      <th>DEPARTAMENTO DOMICILIO</th>\n",
       "      <th>CIUDAD DOMICILIO</th>\n",
       "      <th>CIIU</th>\n",
       "      <th>MACROSECTOR</th>\n",
       "      <th>INGRESOS OPERACIONALES</th>\n",
       "      <th>GANANCIA (PÉRDIDA)</th>\n",
       "      <th>TOTAL ACTIVOS</th>\n",
       "      <th>TOTAL PASIVOS</th>\n",
       "      <th>TOTAL PATRIMONIO</th>\n",
       "      <th>Año de Corte</th>\n",
       "    </tr>\n",
       "  </thead>\n",
       "  <tbody>\n",
       "    <tr>\n",
       "      <th>0</th>\n",
       "      <td>899999068</td>\n",
       "      <td>ECOPETROL S.A</td>\n",
       "      <td>SUPERFINANCIERA</td>\n",
       "      <td>Bogotá - Cundinamarca</td>\n",
       "      <td>BOGOTA D.C.</td>\n",
       "      <td>BOGOTA D.C.-BOGOTA D.C.</td>\n",
       "      <td>610</td>\n",
       "      <td>MINERO</td>\n",
       "      <td>$144.82</td>\n",
       "      <td>$33.41</td>\n",
       "      <td>$216.85</td>\n",
       "      <td>$125.81</td>\n",
       "      <td>$91.03</td>\n",
       "      <td>2022</td>\n",
       "    </tr>\n",
       "    <tr>\n",
       "      <th>1</th>\n",
       "      <td>900112515</td>\n",
       "      <td>REFINERIA DE CARTAGENA S.A.S</td>\n",
       "      <td>SUPERSOCIEDADES</td>\n",
       "      <td>Costa Atlántica</td>\n",
       "      <td>BOLIVAR</td>\n",
       "      <td>CARTAGENA-BOLIVAR</td>\n",
       "      <td>1921</td>\n",
       "      <td>MANUFACTURA</td>\n",
       "      <td>$27.86</td>\n",
       "      <td>$2.19</td>\n",
       "      <td>$42.84</td>\n",
       "      <td>$16.48</td>\n",
       "      <td>$26.36</td>\n",
       "      <td>2022</td>\n",
       "    </tr>\n",
       "    <tr>\n",
       "      <th>2</th>\n",
       "      <td>830095213</td>\n",
       "      <td>ORGANIZACIÓN TERPEL S.A.</td>\n",
       "      <td>SUPERFINANCIERA</td>\n",
       "      <td>Bogotá - Cundinamarca</td>\n",
       "      <td>BOGOTA D.C.</td>\n",
       "      <td>BOGOTA D.C.-BOGOTA D.C.</td>\n",
       "      <td>4661</td>\n",
       "      <td>COMERCIO</td>\n",
       "      <td>$23.60</td>\n",
       "      <td>$0.33</td>\n",
       "      <td>$7.48</td>\n",
       "      <td>$4.47</td>\n",
       "      <td>$3.01</td>\n",
       "      <td>2022</td>\n",
       "    </tr>\n",
       "    <tr>\n",
       "      <th>3</th>\n",
       "      <td>860069804</td>\n",
       "      <td>CARBONES DEL CERREJON LIMITED</td>\n",
       "      <td>SUPERSOCIEDADES</td>\n",
       "      <td>Bogotá - Cundinamarca</td>\n",
       "      <td>BOGOTA D.C.</td>\n",
       "      <td>BOGOTA D.C.-BOGOTA D.C.</td>\n",
       "      <td>510</td>\n",
       "      <td>MINERO</td>\n",
       "      <td>$16.39</td>\n",
       "      <td>$6.05</td>\n",
       "      <td>$10.45</td>\n",
       "      <td>$9.00</td>\n",
       "      <td>$1.45</td>\n",
       "      <td>2022</td>\n",
       "    </tr>\n",
       "    <tr>\n",
       "      <th>4</th>\n",
       "      <td>800021308</td>\n",
       "      <td>DRUMMOND LTD</td>\n",
       "      <td>SUPERSOCIEDADES</td>\n",
       "      <td>Bogotá - Cundinamarca</td>\n",
       "      <td>BOGOTA D.C.</td>\n",
       "      <td>BOGOTA D.C.-BOGOTA D.C.</td>\n",
       "      <td>510</td>\n",
       "      <td>MINERO</td>\n",
       "      <td>$15.27</td>\n",
       "      <td>$2.16</td>\n",
       "      <td>$14.27</td>\n",
       "      <td>$6.34</td>\n",
       "      <td>$7.93</td>\n",
       "      <td>2022</td>\n",
       "    </tr>\n",
       "  </tbody>\n",
       "</table>\n",
       "</div>"
      ],
      "text/plain": [
       "         NIT                   RAZÓN SOCIAL       SUPERVISOR  \\\n",
       "0  899999068                  ECOPETROL S.A  SUPERFINANCIERA   \n",
       "1  900112515   REFINERIA DE CARTAGENA S.A.S  SUPERSOCIEDADES   \n",
       "2  830095213       ORGANIZACIÓN TERPEL S.A.  SUPERFINANCIERA   \n",
       "3  860069804  CARBONES DEL CERREJON LIMITED  SUPERSOCIEDADES   \n",
       "4  800021308                   DRUMMOND LTD  SUPERSOCIEDADES   \n",
       "\n",
       "                  REGIÓN DEPARTAMENTO DOMICILIO         CIUDAD DOMICILIO  \\\n",
       "0  Bogotá - Cundinamarca            BOGOTA D.C.  BOGOTA D.C.-BOGOTA D.C.   \n",
       "1        Costa Atlántica                BOLIVAR        CARTAGENA-BOLIVAR   \n",
       "2  Bogotá - Cundinamarca            BOGOTA D.C.  BOGOTA D.C.-BOGOTA D.C.   \n",
       "3  Bogotá - Cundinamarca            BOGOTA D.C.  BOGOTA D.C.-BOGOTA D.C.   \n",
       "4  Bogotá - Cundinamarca            BOGOTA D.C.  BOGOTA D.C.-BOGOTA D.C.   \n",
       "\n",
       "   CIIU  MACROSECTOR INGRESOS OPERACIONALES GANANCIA (PÉRDIDA) TOTAL ACTIVOS  \\\n",
       "0   610       MINERO                $144.82             $33.41       $216.85   \n",
       "1  1921  MANUFACTURA                 $27.86              $2.19        $42.84   \n",
       "2  4661     COMERCIO                 $23.60              $0.33         $7.48   \n",
       "3   510       MINERO                 $16.39              $6.05        $10.45   \n",
       "4   510       MINERO                 $15.27              $2.16        $14.27   \n",
       "\n",
       "  TOTAL PASIVOS TOTAL PATRIMONIO  Año de Corte  \n",
       "0       $125.81           $91.03          2022  \n",
       "1        $16.48           $26.36          2022  \n",
       "2         $4.47            $3.01          2022  \n",
       "3         $9.00            $1.45          2022  \n",
       "4         $6.34            $7.93          2022  "
      ]
     },
     "execution_count": 7,
     "metadata": {},
     "output_type": "execute_result"
    }
   ],
   "source": [
    "df.head()"
   ]
  },
  {
   "cell_type": "markdown",
   "id": "62fe60bc-4ac9-4c92-a778-a429af6814cd",
   "metadata": {},
   "source": [
    "# Determinamos el numero de caracteres que tiene los NITS\n",
    "\n",
    "Primero que todo convertimos la columna NIT a variable str para asi poder sacar la longitud len() y por ultimo imprimir mediante print() los valores unicos que tiene en el data set respecto a la longitud.\n",
    "\n",
    "Como podemos observar todos los NITS estan compuestos de 9 caracteres."
   ]
  },
  {
   "cell_type": "code",
   "execution_count": 7,
   "id": "52505801-5b3f-4630-a14b-37a76a2c1a57",
   "metadata": {},
   "outputs": [
    {
     "name": "stdout",
     "output_type": "stream",
     "text": [
      "[9]\n"
     ]
    }
   ],
   "source": [
    "df['NIT']=df['NIT'].astype(str)\n",
    "\n",
    "df['Long_NIT']=df['NIT'].str.len()\n",
    "\n",
    "print(df['Long_NIT'].unique())"
   ]
  },
  {
   "cell_type": "markdown",
   "id": "e98055a9-5b5c-4f3c-b1a0-1c5daf08159f",
   "metadata": {},
   "source": [
    "Como podemos observar hay varios datos que fueron capturados y presentaran problematica a la hora de interpretar el dataframe. Para ello, vamos\n",
    "a establecer la ruta de trabajo para la limpieza de los datos."
   ]
  },
  {
   "cell_type": "markdown",
   "id": "c2caea3b-8600-442e-bc46-9805c924d846",
   "metadata": {},
   "source": [
    "# Determinar que tipos de variables hay en el dataframe y cuantos valores nulos se presetan en la misma"
   ]
  },
  {
   "cell_type": "code",
   "execution_count": 10,
   "id": "41fcaf87-fac8-4f08-8fae-5ae9a6254dc2",
   "metadata": {},
   "outputs": [
    {
     "name": "stdout",
     "output_type": "stream",
     "text": [
      "<class 'pandas.core.frame.DataFrame'>\n",
      "RangeIndex: 20000 entries, 0 to 19999\n",
      "Data columns (total 14 columns):\n",
      " #   Column                  Non-Null Count  Dtype \n",
      "---  ------                  --------------  ----- \n",
      " 0   NIT                     20000 non-null  int64 \n",
      " 1   RAZÓN SOCIAL            19998 non-null  object\n",
      " 2   SUPERVISOR              20000 non-null  object\n",
      " 3   REGIÓN                  20000 non-null  object\n",
      " 4   DEPARTAMENTO DOMICILIO  20000 non-null  object\n",
      " 5   CIUDAD DOMICILIO        20000 non-null  object\n",
      " 6   CIIU                    20000 non-null  int64 \n",
      " 7   MACROSECTOR             20000 non-null  object\n",
      " 8   INGRESOS OPERACIONALES  20000 non-null  object\n",
      " 9   GANANCIA (PÉRDIDA)      20000 non-null  object\n",
      " 10  TOTAL ACTIVOS           20000 non-null  object\n",
      " 11  TOTAL PASIVOS           20000 non-null  object\n",
      " 12  TOTAL PATRIMONIO        20000 non-null  object\n",
      " 13  Año de Corte            20000 non-null  int64 \n",
      "dtypes: int64(3), object(11)\n",
      "memory usage: 2.1+ MB\n"
     ]
    }
   ],
   "source": [
    "df.info()"
   ]
  },
  {
   "cell_type": "markdown",
   "id": "b64c2222-ec6e-475d-a630-40c2f734a5c8",
   "metadata": {},
   "source": [
    "De las 14 columnas que tiene el dataframe solo hay 3 columnas de tipo variable numerico especificamente entero (int)."
   ]
  },
  {
   "cell_type": "markdown",
   "id": "002afe45-aee5-4d59-ac26-80a1caa62c20",
   "metadata": {},
   "source": [
    "## Limpieza de valores NaN"
   ]
  },
  {
   "cell_type": "code",
   "execution_count": 13,
   "id": "799fd287-7a7a-45a1-9255-e5f152021eac",
   "metadata": {},
   "outputs": [
    {
     "data": {
      "text/plain": [
       "NIT                       0\n",
       "RAZÓN SOCIAL              2\n",
       "SUPERVISOR                0\n",
       "REGIÓN                    0\n",
       "DEPARTAMENTO DOMICILIO    0\n",
       "CIUDAD DOMICILIO          0\n",
       "CIIU                      0\n",
       "MACROSECTOR               0\n",
       "INGRESOS OPERACIONALES    0\n",
       "GANANCIA (PÉRDIDA)        0\n",
       "TOTAL ACTIVOS             0\n",
       "TOTAL PASIVOS             0\n",
       "TOTAL PATRIMONIO          0\n",
       "Año de Corte              0\n",
       "dtype: int64"
      ]
     },
     "execution_count": 13,
     "metadata": {},
     "output_type": "execute_result"
    }
   ],
   "source": [
    "df.isnull().sum() #Como podemos observar tenemos 2 valores nulos en el dataframe asignados a la columna razon social."
   ]
  },
  {
   "cell_type": "code",
   "execution_count": 14,
   "id": "5f55a519-68f6-4c37-af83-51916767807e",
   "metadata": {},
   "outputs": [
    {
     "data": {
      "text/html": [
       "<div>\n",
       "<style scoped>\n",
       "    .dataframe tbody tr th:only-of-type {\n",
       "        vertical-align: middle;\n",
       "    }\n",
       "\n",
       "    .dataframe tbody tr th {\n",
       "        vertical-align: top;\n",
       "    }\n",
       "\n",
       "    .dataframe thead th {\n",
       "        text-align: right;\n",
       "    }\n",
       "</style>\n",
       "<table border=\"1\" class=\"dataframe\">\n",
       "  <thead>\n",
       "    <tr style=\"text-align: right;\">\n",
       "      <th></th>\n",
       "      <th>NIT</th>\n",
       "      <th>RAZÓN SOCIAL</th>\n",
       "      <th>SUPERVISOR</th>\n",
       "      <th>REGIÓN</th>\n",
       "      <th>DEPARTAMENTO DOMICILIO</th>\n",
       "      <th>CIUDAD DOMICILIO</th>\n",
       "      <th>CIIU</th>\n",
       "      <th>MACROSECTOR</th>\n",
       "      <th>INGRESOS OPERACIONALES</th>\n",
       "      <th>GANANCIA (PÉRDIDA)</th>\n",
       "      <th>TOTAL ACTIVOS</th>\n",
       "      <th>TOTAL PASIVOS</th>\n",
       "      <th>TOTAL PATRIMONIO</th>\n",
       "      <th>Año de Corte</th>\n",
       "    </tr>\n",
       "  </thead>\n",
       "  <tbody>\n",
       "    <tr>\n",
       "      <th>3529</th>\n",
       "      <td>830065974</td>\n",
       "      <td>NaN</td>\n",
       "      <td>SUPERSOCIEDADES</td>\n",
       "      <td>Bogotá - Cundinamarca</td>\n",
       "      <td>BOGOTA D.C.</td>\n",
       "      <td>BOGOTA D.C.-BOGOTA D.C.</td>\n",
       "      <td>7730</td>\n",
       "      <td>SERVICIOS</td>\n",
       "      <td>$0.06</td>\n",
       "      <td>-$0.02</td>\n",
       "      <td>$0.08</td>\n",
       "      <td>$0.10</td>\n",
       "      <td>-$0.02</td>\n",
       "      <td>2022</td>\n",
       "    </tr>\n",
       "    <tr>\n",
       "      <th>13550</th>\n",
       "      <td>830065974</td>\n",
       "      <td>NaN</td>\n",
       "      <td>SUPERSOCIEDADES</td>\n",
       "      <td>Bogotá - Cundinamarca</td>\n",
       "      <td>BOGOTA D.C.</td>\n",
       "      <td>BOGOTA D.C.-BOGOTA D.C.</td>\n",
       "      <td>7730</td>\n",
       "      <td>SERVICIOS</td>\n",
       "      <td>$0.05</td>\n",
       "      <td>-$0.03</td>\n",
       "      <td>$0.08</td>\n",
       "      <td>$0.12</td>\n",
       "      <td>-$0.04</td>\n",
       "      <td>2021</td>\n",
       "    </tr>\n",
       "  </tbody>\n",
       "</table>\n",
       "</div>"
      ],
      "text/plain": [
       "             NIT RAZÓN SOCIAL       SUPERVISOR                 REGIÓN  \\\n",
       "3529   830065974          NaN  SUPERSOCIEDADES  Bogotá - Cundinamarca   \n",
       "13550  830065974          NaN  SUPERSOCIEDADES  Bogotá - Cundinamarca   \n",
       "\n",
       "      DEPARTAMENTO DOMICILIO         CIUDAD DOMICILIO  CIIU MACROSECTOR  \\\n",
       "3529             BOGOTA D.C.  BOGOTA D.C.-BOGOTA D.C.  7730   SERVICIOS   \n",
       "13550            BOGOTA D.C.  BOGOTA D.C.-BOGOTA D.C.  7730   SERVICIOS   \n",
       "\n",
       "      INGRESOS OPERACIONALES GANANCIA (PÉRDIDA) TOTAL ACTIVOS TOTAL PASIVOS  \\\n",
       "3529                   $0.06             -$0.02         $0.08         $0.10   \n",
       "13550                  $0.05             -$0.03         $0.08         $0.12   \n",
       "\n",
       "      TOTAL PATRIMONIO  Año de Corte  \n",
       "3529            -$0.02          2022  \n",
       "13550           -$0.04          2021  "
      ]
     },
     "execution_count": 14,
     "metadata": {},
     "output_type": "execute_result"
    }
   ],
   "source": [
    "df[df['RAZÓN SOCIAL'].isnull()] #Identificamos cual es la empresa que no tiene registrada la Razón Social."
   ]
  },
  {
   "cell_type": "code",
   "execution_count": 15,
   "id": "98e483fe-3e45-4ca7-ba3d-498be07efff3",
   "metadata": {},
   "outputs": [],
   "source": [
    "df['RAZÓN SOCIAL']=df['RAZÓN SOCIAL'].fillna('Igt Foreign Holdings Corporation') #Reemplazamos NaN por la razón social correspondiente"
   ]
  },
  {
   "cell_type": "markdown",
   "id": "763fa059-8e50-45ca-98f3-f5565265b887",
   "metadata": {},
   "source": [
    "Realizamos la respectiva busqueda en la pagina de la DIAN por el numero de NIT 830065974, el cual nos dice que correponde a la razon social\n",
    "\"IGT FOREIGN HOLDINGS CORPORATION\"\n",
    "https://www.dian.gov.co/normatividad/Normatividad/Resoluci%C3%B3n%20009061%20de%2010-12-2020.pdf"
   ]
  },
  {
   "cell_type": "code",
   "execution_count": 17,
   "id": "c941820a-243c-4a5e-9d01-32b2a80974b7",
   "metadata": {},
   "outputs": [
    {
     "data": {
      "text/plain": [
       "3529     Igt Foreign Holdings Corporation\n",
       "13550    Igt Foreign Holdings Corporation\n",
       "Name: RAZÓN SOCIAL, dtype: object"
      ]
     },
     "execution_count": 17,
     "metadata": {},
     "output_type": "execute_result"
    }
   ],
   "source": [
    "df[df['NIT']==830065974]['RAZÓN SOCIAL'] #Usamos el filtro para verificar que la razon social ya se encuentre en el dataframe."
   ]
  },
  {
   "cell_type": "code",
   "execution_count": 18,
   "id": "9b4011c5-b318-48f8-9763-64ccbd47ed13",
   "metadata": {
    "scrolled": true
   },
   "outputs": [
    {
     "name": "stdout",
     "output_type": "stream",
     "text": [
      "<class 'pandas.core.frame.DataFrame'>\n",
      "RangeIndex: 20000 entries, 0 to 19999\n",
      "Data columns (total 14 columns):\n",
      " #   Column                  Non-Null Count  Dtype \n",
      "---  ------                  --------------  ----- \n",
      " 0   NIT                     20000 non-null  int64 \n",
      " 1   RAZÓN SOCIAL            20000 non-null  object\n",
      " 2   SUPERVISOR              20000 non-null  object\n",
      " 3   REGIÓN                  20000 non-null  object\n",
      " 4   DEPARTAMENTO DOMICILIO  20000 non-null  object\n",
      " 5   CIUDAD DOMICILIO        20000 non-null  object\n",
      " 6   CIIU                    20000 non-null  int64 \n",
      " 7   MACROSECTOR             20000 non-null  object\n",
      " 8   INGRESOS OPERACIONALES  20000 non-null  object\n",
      " 9   GANANCIA (PÉRDIDA)      20000 non-null  object\n",
      " 10  TOTAL ACTIVOS           20000 non-null  object\n",
      " 11  TOTAL PASIVOS           20000 non-null  object\n",
      " 12  TOTAL PATRIMONIO        20000 non-null  object\n",
      " 13  Año de Corte            20000 non-null  int64 \n",
      "dtypes: int64(3), object(11)\n",
      "memory usage: 2.1+ MB\n"
     ]
    }
   ],
   "source": [
    "df.info() #Corroboramos que ya no existen mas valores NaN en nuestro dataframe."
   ]
  },
  {
   "cell_type": "markdown",
   "id": "ee5d43da-98b4-403a-b95c-d0ed8238860f",
   "metadata": {},
   "source": [
    "## LIMPIEZA DE DATOS CATEGORICAS\n",
    "\n",
    "Se determina que las columnas categoricas son todas aquellas que no tienen un numero en el registro de los datos."
   ]
  },
  {
   "cell_type": "code",
   "execution_count": 20,
   "id": "df6f9f94-9714-4c52-aee1-23f6a06689a8",
   "metadata": {},
   "outputs": [],
   "source": [
    "cols_categoricas = ['RAZÓN SOCIAL','SUPERVISOR','REGIÓN','DEPARTAMENTO DOMICILIO','CIUDAD DOMICILIO','MACROSECTOR']"
   ]
  },
  {
   "cell_type": "code",
   "execution_count": 21,
   "id": "c98cda23-0c77-4a0d-9880-b49064a8673c",
   "metadata": {},
   "outputs": [],
   "source": [
    "for column in df.columns:\n",
    "    if column in cols_categoricas:\n",
    "        df[column]=df[column].str.upper()\n",
    "        df[column]=df[column].replace('SAS','S.A.S',regex=True)\n",
    "        df[column]=df[column].replace('Á','A',regex=True)\n",
    "        df[column]=df[column].replace('É','E',regex=True)\n",
    "        df[column]=df[column].replace('Í','I',regex=True)\n",
    "        df[column]=df[column].replace('Ó','O',regex=True)\n",
    "        df[column]=df[column].replace('Ú','U',regex=True)"
   ]
  },
  {
   "cell_type": "markdown",
   "id": "966fb576-909a-4280-8b7f-896a325e486f",
   "metadata": {},
   "source": [
    "# Realizamos la primer limpieza:\n",
    "\n",
    "*Todos los registros queden en mayusculas.\n",
    "\n",
    "*Quitar todas las tildes."
   ]
  },
  {
   "cell_type": "code",
   "execution_count": 23,
   "id": "c606851d-5c75-44c6-a18b-c2bc6f51cc44",
   "metadata": {},
   "outputs": [
    {
     "data": {
      "text/html": [
       "<div>\n",
       "<style scoped>\n",
       "    .dataframe tbody tr th:only-of-type {\n",
       "        vertical-align: middle;\n",
       "    }\n",
       "\n",
       "    .dataframe tbody tr th {\n",
       "        vertical-align: top;\n",
       "    }\n",
       "\n",
       "    .dataframe thead th {\n",
       "        text-align: right;\n",
       "    }\n",
       "</style>\n",
       "<table border=\"1\" class=\"dataframe\">\n",
       "  <thead>\n",
       "    <tr style=\"text-align: right;\">\n",
       "      <th></th>\n",
       "      <th>NIT</th>\n",
       "      <th>RAZÓN SOCIAL</th>\n",
       "      <th>SUPERVISOR</th>\n",
       "      <th>REGIÓN</th>\n",
       "      <th>DEPARTAMENTO DOMICILIO</th>\n",
       "      <th>CIUDAD DOMICILIO</th>\n",
       "      <th>CIIU</th>\n",
       "      <th>MACROSECTOR</th>\n",
       "      <th>INGRESOS OPERACIONALES</th>\n",
       "      <th>GANANCIA (PÉRDIDA)</th>\n",
       "      <th>TOTAL ACTIVOS</th>\n",
       "      <th>TOTAL PASIVOS</th>\n",
       "      <th>TOTAL PATRIMONIO</th>\n",
       "      <th>Año de Corte</th>\n",
       "    </tr>\n",
       "  </thead>\n",
       "  <tbody>\n",
       "    <tr>\n",
       "      <th>0</th>\n",
       "      <td>899999068</td>\n",
       "      <td>ECOPETROL S.A</td>\n",
       "      <td>SUPERFINANCIERA</td>\n",
       "      <td>BOGOTA - CUNDINAMARCA</td>\n",
       "      <td>BOGOTA D.C.</td>\n",
       "      <td>BOGOTA D.C.-BOGOTA D.C.</td>\n",
       "      <td>610</td>\n",
       "      <td>MINERO</td>\n",
       "      <td>$144.82</td>\n",
       "      <td>$33.41</td>\n",
       "      <td>$216.85</td>\n",
       "      <td>$125.81</td>\n",
       "      <td>$91.03</td>\n",
       "      <td>2022</td>\n",
       "    </tr>\n",
       "    <tr>\n",
       "      <th>1</th>\n",
       "      <td>900112515</td>\n",
       "      <td>REFINERIA DE CARTAGENA S.A.S</td>\n",
       "      <td>SUPERSOCIEDADES</td>\n",
       "      <td>COSTA ATLANTICA</td>\n",
       "      <td>BOLIVAR</td>\n",
       "      <td>CARTAGENA-BOLIVAR</td>\n",
       "      <td>1921</td>\n",
       "      <td>MANUFACTURA</td>\n",
       "      <td>$27.86</td>\n",
       "      <td>$2.19</td>\n",
       "      <td>$42.84</td>\n",
       "      <td>$16.48</td>\n",
       "      <td>$26.36</td>\n",
       "      <td>2022</td>\n",
       "    </tr>\n",
       "    <tr>\n",
       "      <th>2</th>\n",
       "      <td>830095213</td>\n",
       "      <td>ORGANIZACION TERPEL S.A.</td>\n",
       "      <td>SUPERFINANCIERA</td>\n",
       "      <td>BOGOTA - CUNDINAMARCA</td>\n",
       "      <td>BOGOTA D.C.</td>\n",
       "      <td>BOGOTA D.C.-BOGOTA D.C.</td>\n",
       "      <td>4661</td>\n",
       "      <td>COMERCIO</td>\n",
       "      <td>$23.60</td>\n",
       "      <td>$0.33</td>\n",
       "      <td>$7.48</td>\n",
       "      <td>$4.47</td>\n",
       "      <td>$3.01</td>\n",
       "      <td>2022</td>\n",
       "    </tr>\n",
       "    <tr>\n",
       "      <th>3</th>\n",
       "      <td>860069804</td>\n",
       "      <td>CARBONES DEL CERREJON LIMITED</td>\n",
       "      <td>SUPERSOCIEDADES</td>\n",
       "      <td>BOGOTA - CUNDINAMARCA</td>\n",
       "      <td>BOGOTA D.C.</td>\n",
       "      <td>BOGOTA D.C.-BOGOTA D.C.</td>\n",
       "      <td>510</td>\n",
       "      <td>MINERO</td>\n",
       "      <td>$16.39</td>\n",
       "      <td>$6.05</td>\n",
       "      <td>$10.45</td>\n",
       "      <td>$9.00</td>\n",
       "      <td>$1.45</td>\n",
       "      <td>2022</td>\n",
       "    </tr>\n",
       "    <tr>\n",
       "      <th>4</th>\n",
       "      <td>800021308</td>\n",
       "      <td>DRUMMOND LTD</td>\n",
       "      <td>SUPERSOCIEDADES</td>\n",
       "      <td>BOGOTA - CUNDINAMARCA</td>\n",
       "      <td>BOGOTA D.C.</td>\n",
       "      <td>BOGOTA D.C.-BOGOTA D.C.</td>\n",
       "      <td>510</td>\n",
       "      <td>MINERO</td>\n",
       "      <td>$15.27</td>\n",
       "      <td>$2.16</td>\n",
       "      <td>$14.27</td>\n",
       "      <td>$6.34</td>\n",
       "      <td>$7.93</td>\n",
       "      <td>2022</td>\n",
       "    </tr>\n",
       "    <tr>\n",
       "      <th>...</th>\n",
       "      <td>...</td>\n",
       "      <td>...</td>\n",
       "      <td>...</td>\n",
       "      <td>...</td>\n",
       "      <td>...</td>\n",
       "      <td>...</td>\n",
       "      <td>...</td>\n",
       "      <td>...</td>\n",
       "      <td>...</td>\n",
       "      <td>...</td>\n",
       "      <td>...</td>\n",
       "      <td>...</td>\n",
       "      <td>...</td>\n",
       "      <td>...</td>\n",
       "    </tr>\n",
       "    <tr>\n",
       "      <th>19995</th>\n",
       "      <td>900440256</td>\n",
       "      <td>EFIVENTAS Y SERVICIOS S.A.S</td>\n",
       "      <td>SUPERSOCIEDADES</td>\n",
       "      <td>COSTA ATLANTICA</td>\n",
       "      <td>ATLANTICO</td>\n",
       "      <td>BARRANQUILLA-ATLANTICO</td>\n",
       "      <td>7490</td>\n",
       "      <td>SERVICIOS</td>\n",
       "      <td>$0.01</td>\n",
       "      <td>$0.00</td>\n",
       "      <td>$0.01</td>\n",
       "      <td>$0.01</td>\n",
       "      <td>$0.00</td>\n",
       "      <td>2021</td>\n",
       "    </tr>\n",
       "    <tr>\n",
       "      <th>19996</th>\n",
       "      <td>890115230</td>\n",
       "      <td>QUIMIFEX S.A.S</td>\n",
       "      <td>SUPERSOCIEDADES</td>\n",
       "      <td>COSTA ATLANTICA</td>\n",
       "      <td>ATLANTICO</td>\n",
       "      <td>BARRANQUILLA-ATLANTICO</td>\n",
       "      <td>4664</td>\n",
       "      <td>COMERCIO</td>\n",
       "      <td>$0.01</td>\n",
       "      <td>$0.00</td>\n",
       "      <td>$0.01</td>\n",
       "      <td>$0.01</td>\n",
       "      <td>$0.00</td>\n",
       "      <td>2021</td>\n",
       "    </tr>\n",
       "    <tr>\n",
       "      <th>19997</th>\n",
       "      <td>901021850</td>\n",
       "      <td>EDGE NETWORK SERVICES COLOMBIA S.A.S</td>\n",
       "      <td>SUPERSOCIEDADES</td>\n",
       "      <td>BOGOTA - CUNDINAMARCA</td>\n",
       "      <td>BOGOTA D.C.</td>\n",
       "      <td>BOGOTA D.C.-BOGOTA D.C.</td>\n",
       "      <td>6190</td>\n",
       "      <td>SERVICIOS</td>\n",
       "      <td>$0.01</td>\n",
       "      <td>$0.00</td>\n",
       "      <td>$0.04</td>\n",
       "      <td>$0.00</td>\n",
       "      <td>$0.04</td>\n",
       "      <td>2021</td>\n",
       "    </tr>\n",
       "    <tr>\n",
       "      <th>19998</th>\n",
       "      <td>900350192</td>\n",
       "      <td>DESTINO COMERCIAL S.A.S</td>\n",
       "      <td>SUPERSOCIEDADES</td>\n",
       "      <td>ANTIOQUIA</td>\n",
       "      <td>ANTIOQUIA</td>\n",
       "      <td>SABANETA-ANTIOQUIA</td>\n",
       "      <td>4771</td>\n",
       "      <td>COMERCIO</td>\n",
       "      <td>$0.01</td>\n",
       "      <td>$0.00</td>\n",
       "      <td>$0.01</td>\n",
       "      <td>$0.00</td>\n",
       "      <td>$0.00</td>\n",
       "      <td>2021</td>\n",
       "    </tr>\n",
       "    <tr>\n",
       "      <th>19999</th>\n",
       "      <td>830123119</td>\n",
       "      <td>DISTRIBUIDORA DE MAQUINARIA AGRICOLA Y PECUARI...</td>\n",
       "      <td>SUPERSOCIEDADES</td>\n",
       "      <td>BOGOTA - CUNDINAMARCA</td>\n",
       "      <td>CUNDINAMARCA</td>\n",
       "      <td>CHIA-CUNDINAMARCA</td>\n",
       "      <td>4653</td>\n",
       "      <td>COMERCIO</td>\n",
       "      <td>$0.01</td>\n",
       "      <td>$0.00</td>\n",
       "      <td>$0.01</td>\n",
       "      <td>$0.01</td>\n",
       "      <td>$0.00</td>\n",
       "      <td>2021</td>\n",
       "    </tr>\n",
       "  </tbody>\n",
       "</table>\n",
       "<p>20000 rows × 14 columns</p>\n",
       "</div>"
      ],
      "text/plain": [
       "             NIT                                       RAZÓN SOCIAL  \\\n",
       "0      899999068                                      ECOPETROL S.A   \n",
       "1      900112515                       REFINERIA DE CARTAGENA S.A.S   \n",
       "2      830095213                           ORGANIZACION TERPEL S.A.   \n",
       "3      860069804                      CARBONES DEL CERREJON LIMITED   \n",
       "4      800021308                                       DRUMMOND LTD   \n",
       "...          ...                                                ...   \n",
       "19995  900440256                        EFIVENTAS Y SERVICIOS S.A.S   \n",
       "19996  890115230                                     QUIMIFEX S.A.S   \n",
       "19997  901021850               EDGE NETWORK SERVICES COLOMBIA S.A.S   \n",
       "19998  900350192                            DESTINO COMERCIAL S.A.S   \n",
       "19999  830123119  DISTRIBUIDORA DE MAQUINARIA AGRICOLA Y PECUARI...   \n",
       "\n",
       "            SUPERVISOR                 REGIÓN DEPARTAMENTO DOMICILIO  \\\n",
       "0      SUPERFINANCIERA  BOGOTA - CUNDINAMARCA            BOGOTA D.C.   \n",
       "1      SUPERSOCIEDADES        COSTA ATLANTICA                BOLIVAR   \n",
       "2      SUPERFINANCIERA  BOGOTA - CUNDINAMARCA            BOGOTA D.C.   \n",
       "3      SUPERSOCIEDADES  BOGOTA - CUNDINAMARCA            BOGOTA D.C.   \n",
       "4      SUPERSOCIEDADES  BOGOTA - CUNDINAMARCA            BOGOTA D.C.   \n",
       "...                ...                    ...                    ...   \n",
       "19995  SUPERSOCIEDADES        COSTA ATLANTICA              ATLANTICO   \n",
       "19996  SUPERSOCIEDADES        COSTA ATLANTICA              ATLANTICO   \n",
       "19997  SUPERSOCIEDADES  BOGOTA - CUNDINAMARCA            BOGOTA D.C.   \n",
       "19998  SUPERSOCIEDADES              ANTIOQUIA              ANTIOQUIA   \n",
       "19999  SUPERSOCIEDADES  BOGOTA - CUNDINAMARCA           CUNDINAMARCA   \n",
       "\n",
       "              CIUDAD DOMICILIO  CIIU  MACROSECTOR INGRESOS OPERACIONALES  \\\n",
       "0      BOGOTA D.C.-BOGOTA D.C.   610       MINERO                $144.82   \n",
       "1            CARTAGENA-BOLIVAR  1921  MANUFACTURA                 $27.86   \n",
       "2      BOGOTA D.C.-BOGOTA D.C.  4661     COMERCIO                 $23.60   \n",
       "3      BOGOTA D.C.-BOGOTA D.C.   510       MINERO                 $16.39   \n",
       "4      BOGOTA D.C.-BOGOTA D.C.   510       MINERO                 $15.27   \n",
       "...                        ...   ...          ...                    ...   \n",
       "19995   BARRANQUILLA-ATLANTICO  7490    SERVICIOS                  $0.01   \n",
       "19996   BARRANQUILLA-ATLANTICO  4664     COMERCIO                  $0.01   \n",
       "19997  BOGOTA D.C.-BOGOTA D.C.  6190    SERVICIOS                  $0.01   \n",
       "19998       SABANETA-ANTIOQUIA  4771     COMERCIO                  $0.01   \n",
       "19999        CHIA-CUNDINAMARCA  4653     COMERCIO                  $0.01   \n",
       "\n",
       "      GANANCIA (PÉRDIDA) TOTAL ACTIVOS TOTAL PASIVOS TOTAL PATRIMONIO  \\\n",
       "0                 $33.41       $216.85       $125.81           $91.03   \n",
       "1                  $2.19        $42.84        $16.48           $26.36   \n",
       "2                  $0.33         $7.48         $4.47            $3.01   \n",
       "3                  $6.05        $10.45         $9.00            $1.45   \n",
       "4                  $2.16        $14.27         $6.34            $7.93   \n",
       "...                  ...           ...           ...              ...   \n",
       "19995              $0.00         $0.01         $0.01            $0.00   \n",
       "19996              $0.00         $0.01         $0.01            $0.00   \n",
       "19997              $0.00         $0.04         $0.00            $0.04   \n",
       "19998              $0.00         $0.01         $0.00            $0.00   \n",
       "19999              $0.00         $0.01         $0.01            $0.00   \n",
       "\n",
       "       Año de Corte  \n",
       "0              2022  \n",
       "1              2022  \n",
       "2              2022  \n",
       "3              2022  \n",
       "4              2022  \n",
       "...             ...  \n",
       "19995          2021  \n",
       "19996          2021  \n",
       "19997          2021  \n",
       "19998          2021  \n",
       "19999          2021  \n",
       "\n",
       "[20000 rows x 14 columns]"
      ]
     },
     "execution_count": 23,
     "metadata": {},
     "output_type": "execute_result"
    }
   ],
   "source": [
    "df"
   ]
  },
  {
   "cell_type": "markdown",
   "id": "23c827ef-5365-47db-b1e9-a08b9f929ffc",
   "metadata": {},
   "source": [
    "# Opte por dejar Bogota como departamento por que quiero resaltar la influencia que tiene la capital en el sector empresarial a nivel nacional."
   ]
  },
  {
   "cell_type": "markdown",
   "id": "7de38275-5b90-4c00-ad2f-d5629a88cbb0",
   "metadata": {},
   "source": [
    "## LIMPIEZA COLUMNA \"REGIÓN\"\n",
    "\n",
    "Se opta por clasificar los siguientes datos en las siguientes regiones"
   ]
  },
  {
   "cell_type": "code",
   "execution_count": 25,
   "id": "b5df2b5e-c6b9-4818-85d6-437ee70231a1",
   "metadata": {},
   "outputs": [
    {
     "data": {
      "text/plain": [
       "REGIÓN\n",
       "BOGOTA - CUNDINAMARCA    9290\n",
       "ANTIOQUIA                3821\n",
       "COSTA PACIFICA           2187\n",
       "COSTA ATLANTICA          2161\n",
       "CENTRO - ORIENTE         1162\n",
       "EJE CAFETERO              707\n",
       "OTROS                     672\n",
       "Name: count, dtype: int64"
      ]
     },
     "execution_count": 25,
     "metadata": {},
     "output_type": "execute_result"
    }
   ],
   "source": [
    "df['REGIÓN'].value_counts()"
   ]
  },
  {
   "cell_type": "code",
   "execution_count": 26,
   "id": "0fb11941-275e-472d-bbe5-1cb431d3f023",
   "metadata": {},
   "outputs": [
    {
     "data": {
      "text/plain": [
       "REGIÓN\n",
       "ANDINA          13111\n",
       "PACIFICO         2187\n",
       "CARIBE           2161\n",
       "ORINOQUIA        1162\n",
       "EJE CAFETERO      707\n",
       "OTROS             672\n",
       "Name: count, dtype: int64"
      ]
     },
     "execution_count": 26,
     "metadata": {},
     "output_type": "execute_result"
    }
   ],
   "source": [
    "df['REGIÓN']=df['REGIÓN'].replace('BOGOTA - CUNDINAMARCA','ANDINA',regex=True)\n",
    "df['REGIÓN']=df['REGIÓN'].replace('ANTIOQUIA','ANDINA',regex=True)\n",
    "df['REGIÓN']=df['REGIÓN'].replace('COSTA PACIFICA','PACIFICO',regex=True)\n",
    "df['REGIÓN']=df['REGIÓN'].replace('COSTA ATLANTICA','CARIBE',regex=True)\n",
    "df['REGIÓN']=df['REGIÓN'].replace('CENTRO - ORIENTE','ORINOQUIA',regex=True)\n",
    "\n",
    "df['REGIÓN'].value_counts()"
   ]
  },
  {
   "cell_type": "markdown",
   "id": "dd58614e-c917-4b4f-9d81-1d8389f46f00",
   "metadata": {},
   "source": [
    "## LIMPIEZA COLUMNA \"CIUDAD DOMICILIO\"\n",
    "\n",
    "Esta es la columna a la cual se le deben realizar la mayor limpieza mediante expresiones regulares ya que en la captura de datos el caracter \"-\" se encontraba en medio de cada palabra. Ademas, de casos muy puntuales que se opto por realizar el reemplazo directamente."
   ]
  },
  {
   "cell_type": "code",
   "execution_count": 28,
   "id": "06039e79-3219-4546-9759-32d5a8be5bcb",
   "metadata": {},
   "outputs": [
    {
     "data": {
      "text/plain": [
       "CIUDAD DOMICILIO\n",
       "BOGOTA-BOGOTA                 7334\n",
       "MEDELLIN-ANTIOQUIA            2236\n",
       "CALI-VALLE                    1116\n",
       "BARRANQUILLA-ATLANTICO         906\n",
       "BOGOTABOGOTA                   532\n",
       "                              ... \n",
       "ORITO -PUTUMAYO                  1\n",
       "SANTA-ANA -MAGDALENA             1\n",
       "URRAO-ANTIOQUIA                  1\n",
       "VALLE DEL GUAMUEZ-PUTUMAYO       1\n",
       "MANAURE-LA GUAJIRA               1\n",
       "Name: count, Length: 347, dtype: int64"
      ]
     },
     "execution_count": 28,
     "metadata": {},
     "output_type": "execute_result"
    }
   ],
   "source": [
    "df['CIUDAD DOMICILIO']=df['CIUDAD DOMICILIO'].replace('BOGOTA D.C.','BOGOTA',regex=True)\n",
    "\n",
    "df['CIUDAD DOMICILIO'].value_counts()"
   ]
  },
  {
   "cell_type": "code",
   "execution_count": 29,
   "id": "0dbbee75-e987-4d1f-91b9-55241fdce888",
   "metadata": {},
   "outputs": [],
   "source": [
    "df['CIUDAD DOMICILIO'].str.strip()\n",
    "df['CIUDAD DOMICILIO']=df['CIUDAD DOMICILIO'].str.replace('LA-UNION -VALLE','LA UNION',regex=True)\n",
    "df['CIUDAD DOMICILIO']=df['CIUDAD DOMICILIO'].str.replace('MANAURE-LA GUAJIRA','MANAURE',regex=True)\n",
    "df['CIUDAD DOMICILIO']=df['CIUDAD DOMICILIO'].str.replace('LA-UNION-ANTIOQUIA','LA UNION',regex=True)\n",
    "df['CIUDAD DOMICILIO']=df['CIUDAD DOMICILIO'].str.replace('LA-CALERA-CUNDINAMARCA-CUNDINAMARCA','LA CALERA',regex=True)\n",
    "df['CIUDAD DOMICILIO']=df['CIUDAD DOMICILIO'].str.replace('SINCE-SUCRE-SUCRE','SINCELEJO',regex=True)\n",
    "df['CIUDAD DOMICILIO']=df['CIUDAD DOMICILIO'].str.replace('OCANA-NORTE DE SANTANDER-SANTANDER','OCANA',regex=True)\n",
    "df['CIUDAD DOMICILIO']=df['CIUDAD DOMICILIO'].str.replace(r'(\\-\\w+\\-\\w+\\-\\w+\\-\\w+)','',regex=True)\n",
    "df['CIUDAD DOMICILIO']=df['CIUDAD DOMICILIO'].str.replace(r'(\\-\\w+\\-\\w+\\-\\w+)','',regex=True)\n",
    "df['CIUDAD DOMICILIO']=df['CIUDAD DOMICILIO'].str.replace(r'(\\-\\w+\\-\\w+)','',regex=True)\n",
    "df['CIUDAD DOMICILIO']=df['CIUDAD DOMICILIO'].str.replace(r'(\\-\\w+)','',regex=True)\n",
    "df['CIUDAD DOMICILIO']=df['CIUDAD DOMICILIO'].str.replace('BOGOTABOGOTA','BOGOTA',regex=True)"
   ]
  },
  {
   "cell_type": "code",
   "execution_count": 30,
   "id": "a38f9ffa-1077-4351-a42a-98d96c8e31c0",
   "metadata": {},
   "outputs": [],
   "source": [
    "df['DEPARTAMENTO DOMICILIO']=df['DEPARTAMENTO DOMICILIO'].str.replace('BOGOTA D.C.','BOGOTA',regex=True)\n",
    "df['DEPARTAMENTO DOMICILIO']=df['DEPARTAMENTO DOMICILIO'].str.replace('VALLE','VALLE DEL CAUCA',regex=True)"
   ]
  },
  {
   "cell_type": "markdown",
   "id": "f8ab83f3-6952-4e76-9ad8-bd9ff99a081e",
   "metadata": {},
   "source": [
    "## LIMPIEZA CARACTER $ EN COLUMNAS NUMERICAS.\n",
    "\n",
    "Se establece las columnas que son numericas pero que no lo son por temas de la captura de los datos especialmente por el signo \"$\". Mediante la función .strip() quitamos todos los espacios y mediante la función .extract(r'(\\d+)') retiramos solo los valores numericos y los definimos sobre la misma columna.\n",
    "\n",
    "Al final lo dejamos en tipo de variable numerico decimal (float) para un posterior analisis de datos."
   ]
  },
  {
   "cell_type": "code",
   "execution_count": 32,
   "id": "84ef4f99-4aed-4f52-b3d5-b5d15c68b05b",
   "metadata": {},
   "outputs": [],
   "source": [
    "cols_num = ['INGRESOS OPERACIONALES','GANANCIA (PÉRDIDA)','TOTAL ACTIVOS','TOTAL PASIVOS','TOTAL PATRIMONIO']"
   ]
  },
  {
   "cell_type": "code",
   "execution_count": 33,
   "id": "d8424f6d-dc0f-48d1-9afb-e90ed03330f2",
   "metadata": {},
   "outputs": [
    {
     "data": {
      "text/html": [
       "<div>\n",
       "<style scoped>\n",
       "    .dataframe tbody tr th:only-of-type {\n",
       "        vertical-align: middle;\n",
       "    }\n",
       "\n",
       "    .dataframe tbody tr th {\n",
       "        vertical-align: top;\n",
       "    }\n",
       "\n",
       "    .dataframe thead th {\n",
       "        text-align: right;\n",
       "    }\n",
       "</style>\n",
       "<table border=\"1\" class=\"dataframe\">\n",
       "  <thead>\n",
       "    <tr style=\"text-align: right;\">\n",
       "      <th></th>\n",
       "      <th>NIT</th>\n",
       "      <th>RAZÓN SOCIAL</th>\n",
       "      <th>SUPERVISOR</th>\n",
       "      <th>REGIÓN</th>\n",
       "      <th>DEPARTAMENTO DOMICILIO</th>\n",
       "      <th>CIUDAD DOMICILIO</th>\n",
       "      <th>CIIU</th>\n",
       "      <th>MACROSECTOR</th>\n",
       "      <th>INGRESOS OPERACIONALES</th>\n",
       "      <th>GANANCIA (PÉRDIDA)</th>\n",
       "      <th>TOTAL ACTIVOS</th>\n",
       "      <th>TOTAL PASIVOS</th>\n",
       "      <th>TOTAL PATRIMONIO</th>\n",
       "      <th>Año de Corte</th>\n",
       "    </tr>\n",
       "  </thead>\n",
       "  <tbody>\n",
       "    <tr>\n",
       "      <th>0</th>\n",
       "      <td>899999068</td>\n",
       "      <td>ECOPETROL S.A</td>\n",
       "      <td>SUPERFINANCIERA</td>\n",
       "      <td>ANDINA</td>\n",
       "      <td>BOGOTA</td>\n",
       "      <td>BOGOTA</td>\n",
       "      <td>610</td>\n",
       "      <td>MINERO</td>\n",
       "      <td>144.0</td>\n",
       "      <td>33.0</td>\n",
       "      <td>216.0</td>\n",
       "      <td>125.0</td>\n",
       "      <td>91.0</td>\n",
       "      <td>2022</td>\n",
       "    </tr>\n",
       "    <tr>\n",
       "      <th>1</th>\n",
       "      <td>900112515</td>\n",
       "      <td>REFINERIA DE CARTAGENA S.A.S</td>\n",
       "      <td>SUPERSOCIEDADES</td>\n",
       "      <td>CARIBE</td>\n",
       "      <td>BOLIVAR</td>\n",
       "      <td>CARTAGENA</td>\n",
       "      <td>1921</td>\n",
       "      <td>MANUFACTURA</td>\n",
       "      <td>27.0</td>\n",
       "      <td>2.0</td>\n",
       "      <td>42.0</td>\n",
       "      <td>16.0</td>\n",
       "      <td>26.0</td>\n",
       "      <td>2022</td>\n",
       "    </tr>\n",
       "    <tr>\n",
       "      <th>2</th>\n",
       "      <td>830095213</td>\n",
       "      <td>ORGANIZACION TERPEL S.A.</td>\n",
       "      <td>SUPERFINANCIERA</td>\n",
       "      <td>ANDINA</td>\n",
       "      <td>BOGOTA</td>\n",
       "      <td>BOGOTA</td>\n",
       "      <td>4661</td>\n",
       "      <td>COMERCIO</td>\n",
       "      <td>23.0</td>\n",
       "      <td>0.0</td>\n",
       "      <td>7.0</td>\n",
       "      <td>4.0</td>\n",
       "      <td>3.0</td>\n",
       "      <td>2022</td>\n",
       "    </tr>\n",
       "    <tr>\n",
       "      <th>3</th>\n",
       "      <td>860069804</td>\n",
       "      <td>CARBONES DEL CERREJON LIMITED</td>\n",
       "      <td>SUPERSOCIEDADES</td>\n",
       "      <td>ANDINA</td>\n",
       "      <td>BOGOTA</td>\n",
       "      <td>BOGOTA</td>\n",
       "      <td>510</td>\n",
       "      <td>MINERO</td>\n",
       "      <td>16.0</td>\n",
       "      <td>6.0</td>\n",
       "      <td>10.0</td>\n",
       "      <td>9.0</td>\n",
       "      <td>1.0</td>\n",
       "      <td>2022</td>\n",
       "    </tr>\n",
       "    <tr>\n",
       "      <th>4</th>\n",
       "      <td>800021308</td>\n",
       "      <td>DRUMMOND LTD</td>\n",
       "      <td>SUPERSOCIEDADES</td>\n",
       "      <td>ANDINA</td>\n",
       "      <td>BOGOTA</td>\n",
       "      <td>BOGOTA</td>\n",
       "      <td>510</td>\n",
       "      <td>MINERO</td>\n",
       "      <td>15.0</td>\n",
       "      <td>2.0</td>\n",
       "      <td>14.0</td>\n",
       "      <td>6.0</td>\n",
       "      <td>7.0</td>\n",
       "      <td>2022</td>\n",
       "    </tr>\n",
       "    <tr>\n",
       "      <th>...</th>\n",
       "      <td>...</td>\n",
       "      <td>...</td>\n",
       "      <td>...</td>\n",
       "      <td>...</td>\n",
       "      <td>...</td>\n",
       "      <td>...</td>\n",
       "      <td>...</td>\n",
       "      <td>...</td>\n",
       "      <td>...</td>\n",
       "      <td>...</td>\n",
       "      <td>...</td>\n",
       "      <td>...</td>\n",
       "      <td>...</td>\n",
       "      <td>...</td>\n",
       "    </tr>\n",
       "    <tr>\n",
       "      <th>19995</th>\n",
       "      <td>900440256</td>\n",
       "      <td>EFIVENTAS Y SERVICIOS S.A.S</td>\n",
       "      <td>SUPERSOCIEDADES</td>\n",
       "      <td>CARIBE</td>\n",
       "      <td>ATLANTICO</td>\n",
       "      <td>BARRANQUILLA</td>\n",
       "      <td>7490</td>\n",
       "      <td>SERVICIOS</td>\n",
       "      <td>0.0</td>\n",
       "      <td>0.0</td>\n",
       "      <td>0.0</td>\n",
       "      <td>0.0</td>\n",
       "      <td>0.0</td>\n",
       "      <td>2021</td>\n",
       "    </tr>\n",
       "    <tr>\n",
       "      <th>19996</th>\n",
       "      <td>890115230</td>\n",
       "      <td>QUIMIFEX S.A.S</td>\n",
       "      <td>SUPERSOCIEDADES</td>\n",
       "      <td>CARIBE</td>\n",
       "      <td>ATLANTICO</td>\n",
       "      <td>BARRANQUILLA</td>\n",
       "      <td>4664</td>\n",
       "      <td>COMERCIO</td>\n",
       "      <td>0.0</td>\n",
       "      <td>0.0</td>\n",
       "      <td>0.0</td>\n",
       "      <td>0.0</td>\n",
       "      <td>0.0</td>\n",
       "      <td>2021</td>\n",
       "    </tr>\n",
       "    <tr>\n",
       "      <th>19997</th>\n",
       "      <td>901021850</td>\n",
       "      <td>EDGE NETWORK SERVICES COLOMBIA S.A.S</td>\n",
       "      <td>SUPERSOCIEDADES</td>\n",
       "      <td>ANDINA</td>\n",
       "      <td>BOGOTA</td>\n",
       "      <td>BOGOTA</td>\n",
       "      <td>6190</td>\n",
       "      <td>SERVICIOS</td>\n",
       "      <td>0.0</td>\n",
       "      <td>0.0</td>\n",
       "      <td>0.0</td>\n",
       "      <td>0.0</td>\n",
       "      <td>0.0</td>\n",
       "      <td>2021</td>\n",
       "    </tr>\n",
       "    <tr>\n",
       "      <th>19998</th>\n",
       "      <td>900350192</td>\n",
       "      <td>DESTINO COMERCIAL S.A.S</td>\n",
       "      <td>SUPERSOCIEDADES</td>\n",
       "      <td>ANDINA</td>\n",
       "      <td>ANTIOQUIA</td>\n",
       "      <td>SABANETA</td>\n",
       "      <td>4771</td>\n",
       "      <td>COMERCIO</td>\n",
       "      <td>0.0</td>\n",
       "      <td>0.0</td>\n",
       "      <td>0.0</td>\n",
       "      <td>0.0</td>\n",
       "      <td>0.0</td>\n",
       "      <td>2021</td>\n",
       "    </tr>\n",
       "    <tr>\n",
       "      <th>19999</th>\n",
       "      <td>830123119</td>\n",
       "      <td>DISTRIBUIDORA DE MAQUINARIA AGRICOLA Y PECUARI...</td>\n",
       "      <td>SUPERSOCIEDADES</td>\n",
       "      <td>ANDINA</td>\n",
       "      <td>CUNDINAMARCA</td>\n",
       "      <td>CHIA</td>\n",
       "      <td>4653</td>\n",
       "      <td>COMERCIO</td>\n",
       "      <td>0.0</td>\n",
       "      <td>0.0</td>\n",
       "      <td>0.0</td>\n",
       "      <td>0.0</td>\n",
       "      <td>0.0</td>\n",
       "      <td>2021</td>\n",
       "    </tr>\n",
       "  </tbody>\n",
       "</table>\n",
       "<p>20000 rows × 14 columns</p>\n",
       "</div>"
      ],
      "text/plain": [
       "             NIT                                       RAZÓN SOCIAL  \\\n",
       "0      899999068                                      ECOPETROL S.A   \n",
       "1      900112515                       REFINERIA DE CARTAGENA S.A.S   \n",
       "2      830095213                           ORGANIZACION TERPEL S.A.   \n",
       "3      860069804                      CARBONES DEL CERREJON LIMITED   \n",
       "4      800021308                                       DRUMMOND LTD   \n",
       "...          ...                                                ...   \n",
       "19995  900440256                        EFIVENTAS Y SERVICIOS S.A.S   \n",
       "19996  890115230                                     QUIMIFEX S.A.S   \n",
       "19997  901021850               EDGE NETWORK SERVICES COLOMBIA S.A.S   \n",
       "19998  900350192                            DESTINO COMERCIAL S.A.S   \n",
       "19999  830123119  DISTRIBUIDORA DE MAQUINARIA AGRICOLA Y PECUARI...   \n",
       "\n",
       "            SUPERVISOR  REGIÓN DEPARTAMENTO DOMICILIO CIUDAD DOMICILIO  CIIU  \\\n",
       "0      SUPERFINANCIERA  ANDINA                 BOGOTA           BOGOTA   610   \n",
       "1      SUPERSOCIEDADES  CARIBE                BOLIVAR        CARTAGENA  1921   \n",
       "2      SUPERFINANCIERA  ANDINA                 BOGOTA           BOGOTA  4661   \n",
       "3      SUPERSOCIEDADES  ANDINA                 BOGOTA           BOGOTA   510   \n",
       "4      SUPERSOCIEDADES  ANDINA                 BOGOTA           BOGOTA   510   \n",
       "...                ...     ...                    ...              ...   ...   \n",
       "19995  SUPERSOCIEDADES  CARIBE              ATLANTICO     BARRANQUILLA  7490   \n",
       "19996  SUPERSOCIEDADES  CARIBE              ATLANTICO     BARRANQUILLA  4664   \n",
       "19997  SUPERSOCIEDADES  ANDINA                 BOGOTA           BOGOTA  6190   \n",
       "19998  SUPERSOCIEDADES  ANDINA              ANTIOQUIA         SABANETA  4771   \n",
       "19999  SUPERSOCIEDADES  ANDINA           CUNDINAMARCA             CHIA  4653   \n",
       "\n",
       "       MACROSECTOR  INGRESOS OPERACIONALES  GANANCIA (PÉRDIDA)  TOTAL ACTIVOS  \\\n",
       "0           MINERO                   144.0                33.0          216.0   \n",
       "1      MANUFACTURA                    27.0                 2.0           42.0   \n",
       "2         COMERCIO                    23.0                 0.0            7.0   \n",
       "3           MINERO                    16.0                 6.0           10.0   \n",
       "4           MINERO                    15.0                 2.0           14.0   \n",
       "...            ...                     ...                 ...            ...   \n",
       "19995    SERVICIOS                     0.0                 0.0            0.0   \n",
       "19996     COMERCIO                     0.0                 0.0            0.0   \n",
       "19997    SERVICIOS                     0.0                 0.0            0.0   \n",
       "19998     COMERCIO                     0.0                 0.0            0.0   \n",
       "19999     COMERCIO                     0.0                 0.0            0.0   \n",
       "\n",
       "       TOTAL PASIVOS  TOTAL PATRIMONIO  Año de Corte  \n",
       "0              125.0              91.0          2022  \n",
       "1               16.0              26.0          2022  \n",
       "2                4.0               3.0          2022  \n",
       "3                9.0               1.0          2022  \n",
       "4                6.0               7.0          2022  \n",
       "...              ...               ...           ...  \n",
       "19995            0.0               0.0          2021  \n",
       "19996            0.0               0.0          2021  \n",
       "19997            0.0               0.0          2021  \n",
       "19998            0.0               0.0          2021  \n",
       "19999            0.0               0.0          2021  \n",
       "\n",
       "[20000 rows x 14 columns]"
      ]
     },
     "execution_count": 33,
     "metadata": {},
     "output_type": "execute_result"
    }
   ],
   "source": [
    "for column in df.columns:\n",
    "    if column in cols_num:\n",
    "        df[column]=df[column].astype(str)\n",
    "        df[column]=df[column].str.strip()\n",
    "        df[column]=df[column].str.extract(r'(\\d+)')\n",
    "        df[column]=df[column].astype(float)\n",
    "\n",
    "df"
   ]
  },
  {
   "cell_type": "markdown",
   "id": "6764bf23-3541-4099-b7f2-876908d7eeb5",
   "metadata": {},
   "source": [
    "## ANALISIS DE DATOS\n"
   ]
  },
  {
   "cell_type": "code",
   "execution_count": 35,
   "id": "1de593b5-2078-401b-851b-fab91d6a6e57",
   "metadata": {},
   "outputs": [
    {
     "data": {
      "text/plain": [
       "Index(['NIT', 'RAZÓN SOCIAL', 'SUPERVISOR', 'REGIÓN', 'DEPARTAMENTO DOMICILIO',\n",
       "       'CIUDAD DOMICILIO', 'CIIU', 'MACROSECTOR', 'INGRESOS OPERACIONALES',\n",
       "       'GANANCIA (PÉRDIDA)', 'TOTAL ACTIVOS', 'TOTAL PASIVOS',\n",
       "       'TOTAL PATRIMONIO', 'Año de Corte'],\n",
       "      dtype='object')"
      ]
     },
     "execution_count": 35,
     "metadata": {},
     "output_type": "execute_result"
    }
   ],
   "source": [
    "df.columns"
   ]
  },
  {
   "cell_type": "code",
   "execution_count": 36,
   "id": "b65ce9d4-0889-4ac2-a5c0-31415fcba333",
   "metadata": {},
   "outputs": [
    {
     "data": {
      "text/plain": [
       "Año de Corte\n",
       "2022    10000\n",
       "2021    10000\n",
       "Name: count, dtype: int64"
      ]
     },
     "execution_count": 36,
     "metadata": {},
     "output_type": "execute_result"
    }
   ],
   "source": [
    "df['Año de Corte'].value_counts()"
   ]
  },
  {
   "cell_type": "markdown",
   "id": "8d569760-e3b5-4e71-8e54-053f88a63453",
   "metadata": {},
   "source": [
    "Se observa que en cada periodo de tiempo año 2021 y 2022 se capturaron las 10.000 empresas."
   ]
  },
  {
   "cell_type": "markdown",
   "id": "f800769e-ce4f-46f8-be4d-9ff7c2a1233a",
   "metadata": {},
   "source": [
    "Cuantas empresas se repitiron en el registro en ambos años ?"
   ]
  },
  {
   "cell_type": "code",
   "execution_count": 69,
   "id": "3292af7b-891c-486b-86ef-cf87ab17a460",
   "metadata": {},
   "outputs": [
    {
     "data": {
      "text/plain": [
       "8559"
      ]
     },
     "execution_count": 69,
     "metadata": {},
     "output_type": "execute_result"
    }
   ],
   "source": [
    "len(set(df[df['Año de Corte']==2022]['NIT'].unique()) & set(df[df['Año de Corte']==2021]['NIT'].unique()))"
   ]
  },
  {
   "cell_type": "markdown",
   "id": "b15e1b4b-4a15-4a58-a253-51dcd7774bcd",
   "metadata": {},
   "source": [
    "Como podemos observar hay 8.559 razones sociales que se mantuvieron en el registro de ambos periodos de tiempo."
   ]
  },
  {
   "cell_type": "markdown",
   "id": "a0d32651-405e-4a39-9b80-ea20735b3785",
   "metadata": {},
   "source": [
    "## ANALISIS POR DEPARTAMENTOS"
   ]
  },
  {
   "cell_type": "code",
   "execution_count": 98,
   "id": "4976e3ee-5cc3-4ab2-807c-f444ddd07a87",
   "metadata": {},
   "outputs": [
    {
     "data": {
      "text/plain": [
       "DEPARTAMENTO DOMICILIO\n",
       "BOGOTA                      3892\n",
       "ANTIOQUIA                   1918\n",
       "VALLE DEL CAUCA              897\n",
       "CUNDINAMARCA                 712\n",
       "ATLANTICO                    546\n",
       "SANTANDER                    379\n",
       "BOLIVAR                      238\n",
       "RISARALDA                    167\n",
       "NORTE DE SANTANDER           136\n",
       "CALDAS                       130\n",
       "MAGDALENA                    112\n",
       "NARIÑO                       102\n",
       "META                          95\n",
       "TOLIMA                        88\n",
       "CAUCA                         83\n",
       "HUILA                         79\n",
       "BOYACA                        70\n",
       "CORDOBA                       64\n",
       "QUINDIO                       56\n",
       "CESAR                         54\n",
       "SUCRE                         40\n",
       "CASANARE                      31\n",
       "SAN ANDRES Y PROVIDENCIA      23\n",
       "CAQUETA                       22\n",
       "LA GUAJIRA                    19\n",
       "CHOCO                         12\n",
       "PUTUMAYO                      12\n",
       "ARAUCA                        11\n",
       "GUAVIARE                       4\n",
       "AMAZONAS                       4\n",
       "VICHADA                        2\n",
       "VAUPES                         1\n",
       "GUAINIA                        1\n",
       "Name: count, dtype: int64"
      ]
     },
     "execution_count": 98,
     "metadata": {},
     "output_type": "execute_result"
    }
   ],
   "source": [
    "df[df['Año de Corte']==2021]['DEPARTAMENTO DOMICILIO'].value_counts()"
   ]
  },
  {
   "cell_type": "code",
   "execution_count": 83,
   "id": "2df87d96-8fc2-462c-b9bd-987beab7e904",
   "metadata": {},
   "outputs": [
    {
     "data": {
      "text/plain": [
       "DEPARTAMENTO DOMICILIO\n",
       "BOGOTA                      3974\n",
       "ANTIOQUIA                   1899\n",
       "VALLE DEL CAUCA              899\n",
       "CUNDINAMARCA                 726\n",
       "ATLANTICO                    537\n",
       "SANTANDER                    362\n",
       "BOLIVAR                      228\n",
       "RISARALDA                    167\n",
       "NORTE DE SANTANDER           152\n",
       "CALDAS                       122\n",
       "NARIÑO                       101\n",
       "MAGDALENA                    100\n",
       "META                          90\n",
       "TOLIMA                        85\n",
       "CAUCA                         79\n",
       "CORDOBA                       72\n",
       "HUILA                         71\n",
       "BOYACA                        64\n",
       "QUINDIO                       63\n",
       "CESAR                         52\n",
       "SUCRE                         36\n",
       "CAQUETA                       21\n",
       "SAN ANDRES Y PROVIDENCIA      21\n",
       "CASANARE                      19\n",
       "LA GUAJIRA                    17\n",
       "ARAUCA                        11\n",
       "CHOCO                          9\n",
       "PUTUMAYO                       9\n",
       "AMAZONAS                       6\n",
       "GUAVIARE                       4\n",
       "VICHADA                        2\n",
       "GUAINIA                        1\n",
       "VAUPES                         1\n",
       "Name: count, dtype: int64"
      ]
     },
     "execution_count": 83,
     "metadata": {},
     "output_type": "execute_result"
    }
   ],
   "source": [
    "df[df['Año de Corte']==2022]['DEPARTAMENTO DOMICILIO'].value_counts()"
   ]
  },
  {
   "cell_type": "markdown",
   "id": "a451ba2d-9b7d-4c23-8923-c7f73080a1bd",
   "metadata": {},
   "source": [
    "Se puede concluir que los departamentos que mas influyen y aportan a las empresas mas grandes del pais son: Bogota - Antioquia - Valle del Cauca - Cundinamarca. Entre estos sectores para el año 2022 conforman el 80.35% de todo el pais."
   ]
  },
  {
   "cell_type": "code",
   "execution_count": 86,
   "id": "943570ca-e630-4080-82d3-36b703ab8b55",
   "metadata": {},
   "outputs": [
    {
     "data": {
      "text/plain": [
       "Año de Corte  SUPERVISOR     \n",
       "2021          SUPERSOCIEDADES    88.18\n",
       "              SUPERSALUD          9.21\n",
       "              SUPERVIGILANCIA     1.99\n",
       "              SUPERFINANCIERA     0.58\n",
       "              SUPERSERVICIOS      0.03\n",
       "              SUPERTRANSPORTE     0.01\n",
       "2022          SUPERSOCIEDADES    89.60\n",
       "              SUPERSALUD          7.87\n",
       "              SUPERVIGILANCIA     1.85\n",
       "              SUPERFINANCIERA     0.58\n",
       "              SUPERTRANSPORTE     0.08\n",
       "              SUPERSERVICIOS      0.02\n",
       "Name: proportion, dtype: float64"
      ]
     },
     "execution_count": 86,
     "metadata": {},
     "output_type": "execute_result"
    }
   ],
   "source": [
    "df.groupby('Año de Corte')['SUPERVISOR'].value_counts('SUPERFINANCIERA')*100"
   ]
  },
  {
   "cell_type": "markdown",
   "id": "62c94bfb-5c82-41a9-94b1-241c7ef49a59",
   "metadata": {},
   "source": [
    "Podemos concluir que las empresas mas grandes en colombia las supervisa supersociedades que somete a control a cualquier sociedad comercial, sucursal de sociedad extranjera o empresa unipersonal no vigilada por otra Superintendencia, y ordenar los correctivos necesarios para subsanar las situaciones críticas de orden jurídico, contable, económico y administrativo de esa compañía."
   ]
  },
  {
   "cell_type": "code",
   "execution_count": 92,
   "id": "7aa91bbe-e39c-4a48-a277-0e281cb3c404",
   "metadata": {},
   "outputs": [
    {
     "data": {
      "text/plain": [
       "Año de Corte  MACROSECTOR \n",
       "2021          COMERCIO        33.82\n",
       "              SERVICIOS       31.06\n",
       "              MANUFACTURA     20.40\n",
       "              CONSTRUCCION     8.14\n",
       "              AGROPECUARIO     4.62\n",
       "              MINERO           1.96\n",
       "2022          COMERCIO        33.74\n",
       "              SERVICIOS       30.86\n",
       "              MANUFACTURA     20.95\n",
       "              CONSTRUCCION     7.72\n",
       "              AGROPECUARIO     4.65\n",
       "              MINERO           2.08\n",
       "Name: proportion, dtype: float64"
      ]
     },
     "execution_count": 92,
     "metadata": {},
     "output_type": "execute_result"
    }
   ],
   "source": [
    "df.groupby('Año de Corte')['MACROSECTOR'].value_counts('MACROSECTOR')*100"
   ]
  },
  {
   "cell_type": "markdown",
   "id": "a76197e2-d7c8-435b-96b3-c959fa18089e",
   "metadata": {},
   "source": [
    "Podemos concluir que las empresas mas grandes del pais dominan en un 60% aproximadamente estan ubicadas en el macrosector del comercio y prestacion de servicios. Por lo que podemos concluir que el sector minero esta mas monopolizado por unas macro empresas."
   ]
  },
  {
   "cell_type": "code",
   "execution_count": 104,
   "id": "8ac01275-cf63-48ee-9235-0f7b07c72587",
   "metadata": {},
   "outputs": [
    {
     "data": {
      "text/plain": [
       "Año de Corte  REGIÓN      \n",
       "2021          ANDINA          65.12\n",
       "              PACIFICO        10.99\n",
       "              CARIBE          10.98\n",
       "              ORINOQUIA        5.84\n",
       "              EJE CAFETERO     3.55\n",
       "              OTROS            3.52\n",
       "2022          ANDINA          65.99\n",
       "              PACIFICO        10.88\n",
       "              CARIBE          10.63\n",
       "              ORINOQUIA        5.78\n",
       "              EJE CAFETERO     3.52\n",
       "              OTROS            3.20\n",
       "Name: proportion, dtype: float64"
      ]
     },
     "execution_count": 104,
     "metadata": {},
     "output_type": "execute_result"
    }
   ],
   "source": [
    "df.groupby('Año de Corte')['REGIÓN'].value_counts('REGIÓN')*100"
   ]
  },
  {
   "cell_type": "markdown",
   "id": "ae80cf29-0e9a-4b4e-aced-6956e0494ae7",
   "metadata": {},
   "source": [
    "Podemos concluir que la region que predomina en la ubicación de las empresas mas grandes de colombia es la región Andina, principlamente por que en esta estan presentes Bogota y Antioquia."
   ]
  }
 ],
 "metadata": {
  "kernelspec": {
   "display_name": "Python 3 (ipykernel)",
   "language": "python",
   "name": "python3"
  },
  "language_info": {
   "codemirror_mode": {
    "name": "ipython",
    "version": 3
   },
   "file_extension": ".py",
   "mimetype": "text/x-python",
   "name": "python",
   "nbconvert_exporter": "python",
   "pygments_lexer": "ipython3",
   "version": "3.12.4"
  }
 },
 "nbformat": 4,
 "nbformat_minor": 5
}
